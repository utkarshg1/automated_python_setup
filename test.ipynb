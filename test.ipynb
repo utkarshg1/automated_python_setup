{
 "cells": [
  {
   "cell_type": "markdown",
   "metadata": {},
   "source": [
    "# Test"
   ]
  },
  {
   "cell_type": "code",
   "execution_count": 2,
   "metadata": {},
   "outputs": [],
   "source": [
    "import pandas as pd"
   ]
  },
  {
   "cell_type": "code",
   "execution_count": 3,
   "metadata": {},
   "outputs": [],
   "source": [
    "import matplotlib.pyplot as plt"
   ]
  },
  {
   "cell_type": "code",
   "execution_count": 4,
   "metadata": {},
   "outputs": [],
   "source": [
    "import seaborn as sns"
   ]
  },
  {
   "cell_type": "code",
   "execution_count": 5,
   "metadata": {},
   "outputs": [],
   "source": [
    "import numpy as np"
   ]
  },
  {
   "cell_type": "code",
   "execution_count": 7,
   "metadata": {},
   "outputs": [
    {
     "data": {
      "text/plain": [
       "array([10.58332532,  7.99095067,  9.754712  , 10.67379048, 11.44907615,\n",
       "       11.16534176,  9.7358244 , 10.85616305, 10.4293452 , 10.61335608,\n",
       "        9.72860265,  8.43401123,  9.81179879, 10.90214405, 11.15000999,\n",
       "        9.71395389,  9.56724355,  9.86361745,  9.8626122 ,  9.58825907,\n",
       "        8.52891571, 11.18178985,  8.99811715, 11.47194587,  9.27345491,\n",
       "        9.51909409,  9.26440726, 10.10431373, 10.12768298, 10.00879073,\n",
       "        9.93438494,  9.07170133,  9.48350056,  9.41301851,  9.79349361,\n",
       "       10.54094287, 11.24595375, 10.87548089, 10.31134941,  9.82391364,\n",
       "       10.47501564,  9.72673259, 10.78865174,  9.24902067, 11.14468075,\n",
       "        8.83372631,  8.3757565 ,  9.1857494 ,  9.52665995, 10.7788398 ,\n",
       "        9.47545603, 10.66842014,  9.82749416,  8.30449011,  9.79679422,\n",
       "       10.68424547, 10.30730052, 10.84603358, 10.51078306, 10.53779488,\n",
       "       10.08871163, 10.08748305, 10.18394763,  9.67277474,  8.63588514,\n",
       "       10.06287657,  7.97745188,  8.18660866,  7.88727682,  8.44223559,\n",
       "        8.92533327, 10.22301942, 10.28944228, 10.96996188,  9.61817116,\n",
       "       10.42569462,  8.70504526,  8.59317091,  9.25201837,  9.97507791,\n",
       "        8.01401484, 11.7943716 ,  9.73867289,  9.49617686,  9.78778239,\n",
       "        9.06269173,  8.99223011, 10.63170496,  9.83733703,  8.52084137,\n",
       "       10.37770433, 10.45029959, 11.37474213, 10.37712062, 10.5853435 ,\n",
       "        9.83642459,  9.4881466 ,  8.52129662,  9.43493638, 10.57853945])"
      ]
     },
     "execution_count": 7,
     "metadata": {},
     "output_type": "execute_result"
    }
   ],
   "source": [
    "np.random.normal(loc=10, scale=1, size=100)"
   ]
  },
  {
   "cell_type": "code",
   "execution_count": 8,
   "metadata": {},
   "outputs": [],
   "source": [
    "class generate_random_data:\n",
    "\n",
    "    def __init__(self, mean: float, std: float) -> None:\n",
    "        self.mean = mean\n",
    "        self.std = std\n",
    "\n",
    "    def normal_dist(self, size=int) -> np.ndarray:\n",
    "        return np.random.normal(loc=self.mean, scale=self.std, size=size)"
   ]
  },
  {
   "cell_type": "code",
   "execution_count": 9,
   "metadata": {},
   "outputs": [],
   "source": [
    "a = generate_random_data(mean=6, std=1)"
   ]
  },
  {
   "cell_type": "code",
   "execution_count": 10,
   "metadata": {},
   "outputs": [
    {
     "data": {
      "text/plain": [
       "array([5.77217026, 7.31080441, 3.61519806, 6.36592074, 7.56720522,\n",
       "       7.96128886, 6.03237418, 5.92029798, 6.48686908, 6.6841275 ,\n",
       "       5.19639555, 6.80092112, 5.30326038, 4.99045548, 4.08187526,\n",
       "       8.35996962, 7.0317335 , 5.95526672, 7.71753544, 4.91618491,\n",
       "       5.51404785, 6.06959964, 6.0128099 , 5.2239069 , 6.11299986,\n",
       "       6.05364773, 5.42352147, 6.86917059, 6.33545175, 5.59809963,\n",
       "       5.81044344, 6.04696635, 6.55890197, 7.14828371, 6.24849938,\n",
       "       7.2415984 , 5.83995465, 5.83921061, 6.06921202, 5.69412671,\n",
       "       5.33062095, 6.49036127, 4.69170217, 5.97699029, 5.08664967,\n",
       "       4.54117406, 6.16829121, 5.56867125, 4.77367053, 4.93613251])"
      ]
     },
     "execution_count": 10,
     "metadata": {},
     "output_type": "execute_result"
    }
   ],
   "source": [
    "a.normal_dist(size=50)"
   ]
  },
  {
   "cell_type": "code",
   "execution_count": null,
   "metadata": {},
   "outputs": [],
   "source": []
  }
 ],
 "metadata": {
  "kernelspec": {
   "display_name": "venv",
   "language": "python",
   "name": "python3"
  },
  "language_info": {
   "codemirror_mode": {
    "name": "ipython",
    "version": 3
   },
   "file_extension": ".py",
   "mimetype": "text/x-python",
   "name": "python",
   "nbconvert_exporter": "python",
   "pygments_lexer": "ipython3",
   "version": "3.13.2"
  }
 },
 "nbformat": 4,
 "nbformat_minor": 2
}
