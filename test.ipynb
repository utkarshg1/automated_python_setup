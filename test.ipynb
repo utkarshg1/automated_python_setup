{
 "cells": [
  {
   "cell_type": "markdown",
   "metadata": {},
   "source": [
    "# Test"
   ]
  },
  {
   "cell_type": "code",
   "execution_count": 2,
   "metadata": {},
   "outputs": [],
   "source": [
    "import pandas as pd"
   ]
  },
  {
   "cell_type": "code",
   "execution_count": 3,
   "metadata": {},
   "outputs": [],
   "source": [
    "import matplotlib.pyplot as plt"
   ]
  },
  {
   "cell_type": "code",
   "execution_count": 4,
   "metadata": {},
   "outputs": [],
   "source": [
    "import seaborn as sns"
   ]
  },
  {
   "cell_type": "code",
   "execution_count": 5,
   "metadata": {},
   "outputs": [],
   "source": [
    "import numpy as np"
   ]
  },
  {
   "cell_type": "code",
   "execution_count": 7,
   "metadata": {},
   "outputs": [
    {
     "data": {
      "text/plain": [
       "array([10.58332532,  7.99095067,  9.754712  , 10.67379048, 11.44907615,\n",
       "       11.16534176,  9.7358244 , 10.85616305, 10.4293452 , 10.61335608,\n",
       "        9.72860265,  8.43401123,  9.81179879, 10.90214405, 11.15000999,\n",
       "        9.71395389,  9.56724355,  9.86361745,  9.8626122 ,  9.58825907,\n",
       "        8.52891571, 11.18178985,  8.99811715, 11.47194587,  9.27345491,\n",
       "        9.51909409,  9.26440726, 10.10431373, 10.12768298, 10.00879073,\n",
       "        9.93438494,  9.07170133,  9.48350056,  9.41301851,  9.79349361,\n",
       "       10.54094287, 11.24595375, 10.87548089, 10.31134941,  9.82391364,\n",
       "       10.47501564,  9.72673259, 10.78865174,  9.24902067, 11.14468075,\n",
       "        8.83372631,  8.3757565 ,  9.1857494 ,  9.52665995, 10.7788398 ,\n",
       "        9.47545603, 10.66842014,  9.82749416,  8.30449011,  9.79679422,\n",
       "       10.68424547, 10.30730052, 10.84603358, 10.51078306, 10.53779488,\n",
       "       10.08871163, 10.08748305, 10.18394763,  9.67277474,  8.63588514,\n",
       "       10.06287657,  7.97745188,  8.18660866,  7.88727682,  8.44223559,\n",
       "        8.92533327, 10.22301942, 10.28944228, 10.96996188,  9.61817116,\n",
       "       10.42569462,  8.70504526,  8.59317091,  9.25201837,  9.97507791,\n",
       "        8.01401484, 11.7943716 ,  9.73867289,  9.49617686,  9.78778239,\n",
       "        9.06269173,  8.99223011, 10.63170496,  9.83733703,  8.52084137,\n",
       "       10.37770433, 10.45029959, 11.37474213, 10.37712062, 10.5853435 ,\n",
       "        9.83642459,  9.4881466 ,  8.52129662,  9.43493638, 10.57853945])"
      ]
     },
     "execution_count": 7,
     "metadata": {},
     "output_type": "execute_result"
    }
   ],
   "source": [
    "np.random.normal(loc=10, scale=1, size=100)"
   ]
  },
  {
   "cell_type": "code",
   "execution_count": null,
   "metadata": {},
   "outputs": [],
   "source": [
    "class generate_random_data:\n",
    "\n",
    "    def __init__(self, mean: float, std: float) -> None:\n",
    "        self.mean = mean\n",
    "        self.std = std\n",
    "\n",
    "    def normal_dist(self, size=int) -> np.ndarray:\n",
    "        return np.random.normal(loc = self.mean, scale= self.std, size=size)"
   ]
  }
 ],
 "metadata": {
  "kernelspec": {
   "display_name": "venv",
   "language": "python",
   "name": "python3"
  },
  "language_info": {
   "codemirror_mode": {
    "name": "ipython",
    "version": 3
   },
   "file_extension": ".py",
   "mimetype": "text/x-python",
   "name": "python",
   "nbconvert_exporter": "python",
   "pygments_lexer": "ipython3",
   "version": "3.13.2"
  }
 },
 "nbformat": 4,
 "nbformat_minor": 2
}
